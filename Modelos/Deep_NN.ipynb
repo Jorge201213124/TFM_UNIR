{
  "nbformat": 4,
  "nbformat_minor": 0,
  "metadata": {
    "colab": {
      "name": "Deep_NN.ipynb",
      "provenance": [],
      "collapsed_sections": [],
      "authorship_tag": "ABX9TyPzddweQ94xdtF0W+McXAgm",
      "include_colab_link": true
    },
    "kernelspec": {
      "name": "python3",
      "display_name": "Python 3"
    },
    "language_info": {
      "name": "python"
    }
  },
  "cells": [
    {
      "cell_type": "markdown",
      "metadata": {
        "id": "view-in-github",
        "colab_type": "text"
      },
      "source": [
        "<a href=\"https://colab.research.google.com/github/Jorge201213124/TFM_UNIR/blob/main/Modelos/Deep_NN.ipynb\" target=\"_parent\"><img src=\"https://colab.research.google.com/assets/colab-badge.svg\" alt=\"Open In Colab\"/></a>"
      ]
    },
    {
      "cell_type": "code",
      "metadata": {
        "id": "WQaMSiJPvZ71"
      },
      "source": [
        "# Primero se importan las librerias\n",
        "import matplotlib.pyplot as plt\n",
        "import pandas as pd\n",
        "\n",
        "import tensorflow as tf\n",
        "\n",
        "from tensorflow import keras\n",
        "from tensorflow.keras import layers\n",
        "from google.colab import files\n",
        "import io\n",
        "import math"
      ],
      "execution_count": null,
      "outputs": []
    },
    {
      "cell_type": "code",
      "metadata": {
        "colab": {
          "base_uri": "https://localhost:8080/"
        },
        "id": "eyzM7CVUvv2I",
        "outputId": "9ab011a2-86f9-4d7d-fa9b-b4c2d2753d7d"
      },
      "source": [
        "# Se muestra la version de tensorflow\n",
        "print(tf.__version__)"
      ],
      "execution_count": null,
      "outputs": [
        {
          "output_type": "stream",
          "name": "stdout",
          "text": [
            "2.6.0\n"
          ]
        }
      ]
    },
    {
      "cell_type": "code",
      "metadata": {
        "colab": {
          "resources": {
            "http://localhost:8080/nbextensions/google.colab/files.js": {
              "data": "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",
              "ok": true,
              "headers": [
                [
                  "content-type",
                  "application/javascript"
                ]
              ],
              "status": 200,
              "status_text": ""
            }
          },
          "base_uri": "https://localhost:8080/",
          "height": 129
        },
        "id": "UDgGBP7yv0u-",
        "outputId": "c0daa615-9d40-4bbf-ae4b-b4c7e3cf2271"
      },
      "source": [
        "# Se cargan los conjuntos de datos\n",
        "trainUploaded = files.upload()\n",
        "testUploaded = files.upload()"
      ],
      "execution_count": null,
      "outputs": [
        {
          "output_type": "display_data",
          "data": {
            "text/html": [
              "\n",
              "     <input type=\"file\" id=\"files-3fcc69ba-4730-48a5-821a-899975ab7172\" name=\"files[]\" multiple disabled\n",
              "        style=\"border:none\" />\n",
              "     <output id=\"result-3fcc69ba-4730-48a5-821a-899975ab7172\">\n",
              "      Upload widget is only available when the cell has been executed in the\n",
              "      current browser session. Please rerun this cell to enable.\n",
              "      </output>\n",
              "      <script src=\"/nbextensions/google.colab/files.js\"></script> "
            ],
            "text/plain": [
              "<IPython.core.display.HTML object>"
            ]
          },
          "metadata": {}
        },
        {
          "output_type": "stream",
          "name": "stdout",
          "text": [
            "Saving trainData.csv to trainData.csv\n"
          ]
        },
        {
          "output_type": "display_data",
          "data": {
            "text/html": [
              "\n",
              "     <input type=\"file\" id=\"files-e4a3190e-e416-4e17-8c25-5a0db6218274\" name=\"files[]\" multiple disabled\n",
              "        style=\"border:none\" />\n",
              "     <output id=\"result-e4a3190e-e416-4e17-8c25-5a0db6218274\">\n",
              "      Upload widget is only available when the cell has been executed in the\n",
              "      current browser session. Please rerun this cell to enable.\n",
              "      </output>\n",
              "      <script src=\"/nbextensions/google.colab/files.js\"></script> "
            ],
            "text/plain": [
              "<IPython.core.display.HTML object>"
            ]
          },
          "metadata": {}
        },
        {
          "output_type": "stream",
          "name": "stdout",
          "text": [
            "Saving testData.csv to testData.csv\n"
          ]
        }
      ]
    },
    {
      "cell_type": "code",
      "metadata": {
        "colab": {
          "base_uri": "https://localhost:8080/",
          "height": 205
        },
        "id": "hYadIBajxufh",
        "outputId": "6ac16ed8-6d08-4c4a-ab2e-73e769a02194"
      },
      "source": [
        "# Se cargan los datos de prueba\n",
        "testData = pd.read_csv(io.BytesIO(testUploaded['testData.csv']))\n",
        "testData.head()"
      ],
      "execution_count": null,
      "outputs": [
        {
          "output_type": "execute_result",
          "data": {
            "text/html": [
              "<div>\n",
              "<style scoped>\n",
              "    .dataframe tbody tr th:only-of-type {\n",
              "        vertical-align: middle;\n",
              "    }\n",
              "\n",
              "    .dataframe tbody tr th {\n",
              "        vertical-align: top;\n",
              "    }\n",
              "\n",
              "    .dataframe thead th {\n",
              "        text-align: right;\n",
              "    }\n",
              "</style>\n",
              "<table border=\"1\" class=\"dataframe\">\n",
              "  <thead>\n",
              "    <tr style=\"text-align: right;\">\n",
              "      <th></th>\n",
              "      <th>Caudal</th>\n",
              "      <th>pH</th>\n",
              "      <th>Temperatura</th>\n",
              "      <th>Conductividad</th>\n",
              "      <th>Salinidad</th>\n",
              "      <th>Solidos.Totales</th>\n",
              "      <th>O2</th>\n",
              "      <th>O2p</th>\n",
              "      <th>DBO5</th>\n",
              "      <th>DQO</th>\n",
              "      <th>FT</th>\n",
              "      <th>NT</th>\n",
              "      <th>Turbidez</th>\n",
              "      <th>Coliformes</th>\n",
              "    </tr>\n",
              "  </thead>\n",
              "  <tbody>\n",
              "    <tr>\n",
              "      <th>0</th>\n",
              "      <td>0.039124</td>\n",
              "      <td>0.479532</td>\n",
              "      <td>0.444444</td>\n",
              "      <td>0.687295</td>\n",
              "      <td>0.666667</td>\n",
              "      <td>0.438732</td>\n",
              "      <td>0.007392</td>\n",
              "      <td>0.001774</td>\n",
              "      <td>0.199333</td>\n",
              "      <td>0.080684</td>\n",
              "      <td>0.112487</td>\n",
              "      <td>0.297434</td>\n",
              "      <td>0.004854</td>\n",
              "      <td>0.741096</td>\n",
              "    </tr>\n",
              "    <tr>\n",
              "      <th>1</th>\n",
              "      <td>0.041275</td>\n",
              "      <td>0.432749</td>\n",
              "      <td>0.409091</td>\n",
              "      <td>0.741597</td>\n",
              "      <td>0.666667</td>\n",
              "      <td>0.467541</td>\n",
              "      <td>0.017951</td>\n",
              "      <td>0.003710</td>\n",
              "      <td>0.266055</td>\n",
              "      <td>0.100976</td>\n",
              "      <td>0.098225</td>\n",
              "      <td>0.283014</td>\n",
              "      <td>0.002610</td>\n",
              "      <td>0.722712</td>\n",
              "    </tr>\n",
              "    <tr>\n",
              "      <th>2</th>\n",
              "      <td>0.014153</td>\n",
              "      <td>0.456140</td>\n",
              "      <td>0.191919</td>\n",
              "      <td>0.460725</td>\n",
              "      <td>0.333333</td>\n",
              "      <td>0.319525</td>\n",
              "      <td>0.035903</td>\n",
              "      <td>0.009516</td>\n",
              "      <td>0.165972</td>\n",
              "      <td>0.066383</td>\n",
              "      <td>0.112123</td>\n",
              "      <td>0.205691</td>\n",
              "      <td>0.004854</td>\n",
              "      <td>0.824133</td>\n",
              "    </tr>\n",
              "    <tr>\n",
              "      <th>3</th>\n",
              "      <td>0.000444</td>\n",
              "      <td>0.502924</td>\n",
              "      <td>0.560606</td>\n",
              "      <td>0.470087</td>\n",
              "      <td>0.500000</td>\n",
              "      <td>0.323499</td>\n",
              "      <td>0.098205</td>\n",
              "      <td>0.021935</td>\n",
              "      <td>0.082569</td>\n",
              "      <td>0.042420</td>\n",
              "      <td>0.048617</td>\n",
              "      <td>0.107840</td>\n",
              "      <td>0.007781</td>\n",
              "      <td>0.695706</td>\n",
              "    </tr>\n",
              "    <tr>\n",
              "      <th>4</th>\n",
              "      <td>0.001284</td>\n",
              "      <td>0.777778</td>\n",
              "      <td>0.479798</td>\n",
              "      <td>0.027806</td>\n",
              "      <td>0.083333</td>\n",
              "      <td>0.089058</td>\n",
              "      <td>0.685322</td>\n",
              "      <td>0.143226</td>\n",
              "      <td>0.001668</td>\n",
              "      <td>0.001449</td>\n",
              "      <td>0.000374</td>\n",
              "      <td>0.003424</td>\n",
              "      <td>0.000000</td>\n",
              "      <td>0.319181</td>\n",
              "    </tr>\n",
              "  </tbody>\n",
              "</table>\n",
              "</div>"
            ],
            "text/plain": [
              "     Caudal        pH  Temperatura  ...        NT  Turbidez  Coliformes\n",
              "0  0.039124  0.479532     0.444444  ...  0.297434  0.004854    0.741096\n",
              "1  0.041275  0.432749     0.409091  ...  0.283014  0.002610    0.722712\n",
              "2  0.014153  0.456140     0.191919  ...  0.205691  0.004854    0.824133\n",
              "3  0.000444  0.502924     0.560606  ...  0.107840  0.007781    0.695706\n",
              "4  0.001284  0.777778     0.479798  ...  0.003424  0.000000    0.319181\n",
              "\n",
              "[5 rows x 14 columns]"
            ]
          },
          "metadata": {},
          "execution_count": 6
        }
      ]
    },
    {
      "cell_type": "code",
      "metadata": {
        "colab": {
          "base_uri": "https://localhost:8080/",
          "height": 205
        },
        "id": "j5pmMQ80xEEP",
        "outputId": "88765328-af5f-485b-dc4f-a7af88580777"
      },
      "source": [
        "# Se cargan los datos de prueba\n",
        "trainData = pd.read_csv(io.BytesIO(trainUploaded['trainData.csv']))\n",
        "trainData.head()"
      ],
      "execution_count": null,
      "outputs": [
        {
          "output_type": "execute_result",
          "data": {
            "text/html": [
              "<div>\n",
              "<style scoped>\n",
              "    .dataframe tbody tr th:only-of-type {\n",
              "        vertical-align: middle;\n",
              "    }\n",
              "\n",
              "    .dataframe tbody tr th {\n",
              "        vertical-align: top;\n",
              "    }\n",
              "\n",
              "    .dataframe thead th {\n",
              "        text-align: right;\n",
              "    }\n",
              "</style>\n",
              "<table border=\"1\" class=\"dataframe\">\n",
              "  <thead>\n",
              "    <tr style=\"text-align: right;\">\n",
              "      <th></th>\n",
              "      <th>Caudal</th>\n",
              "      <th>pH</th>\n",
              "      <th>Temperatura</th>\n",
              "      <th>Conductividad</th>\n",
              "      <th>Salinidad</th>\n",
              "      <th>Solidos.Totales</th>\n",
              "      <th>O2</th>\n",
              "      <th>O2p</th>\n",
              "      <th>DBO5</th>\n",
              "      <th>DQO</th>\n",
              "      <th>FT</th>\n",
              "      <th>NT</th>\n",
              "      <th>Turbidez</th>\n",
              "      <th>Coliformes</th>\n",
              "    </tr>\n",
              "  </thead>\n",
              "  <tbody>\n",
              "    <tr>\n",
              "      <th>0</th>\n",
              "      <td>0.250869</td>\n",
              "      <td>0.666667</td>\n",
              "      <td>0.641414</td>\n",
              "      <td>0.548731</td>\n",
              "      <td>0.500000</td>\n",
              "      <td>0.365221</td>\n",
              "      <td>0.028511</td>\n",
              "      <td>0.003871</td>\n",
              "      <td>0.078399</td>\n",
              "      <td>0.031017</td>\n",
              "      <td>0.031254</td>\n",
              "      <td>0.126900</td>\n",
              "      <td>0.004195</td>\n",
              "      <td>0.823149</td>\n",
              "    </tr>\n",
              "    <tr>\n",
              "      <th>1</th>\n",
              "      <td>0.084240</td>\n",
              "      <td>0.210526</td>\n",
              "      <td>0.540404</td>\n",
              "      <td>0.630184</td>\n",
              "      <td>0.500000</td>\n",
              "      <td>0.408931</td>\n",
              "      <td>0.024287</td>\n",
              "      <td>0.005161</td>\n",
              "      <td>0.374479</td>\n",
              "      <td>0.165716</td>\n",
              "      <td>0.122449</td>\n",
              "      <td>0.226107</td>\n",
              "      <td>0.016074</td>\n",
              "      <td>0.774917</td>\n",
              "    </tr>\n",
              "    <tr>\n",
              "      <th>2</th>\n",
              "      <td>0.000511</td>\n",
              "      <td>0.526316</td>\n",
              "      <td>0.722222</td>\n",
              "      <td>0.706020</td>\n",
              "      <td>0.666667</td>\n",
              "      <td>0.448666</td>\n",
              "      <td>0.006336</td>\n",
              "      <td>0.002258</td>\n",
              "      <td>0.128440</td>\n",
              "      <td>0.055561</td>\n",
              "      <td>0.087999</td>\n",
              "      <td>0.185615</td>\n",
              "      <td>0.005586</td>\n",
              "      <td>0.896349</td>\n",
              "    </tr>\n",
              "    <tr>\n",
              "      <th>3</th>\n",
              "      <td>0.214183</td>\n",
              "      <td>0.678363</td>\n",
              "      <td>0.560606</td>\n",
              "      <td>0.952252</td>\n",
              "      <td>0.833333</td>\n",
              "      <td>0.579794</td>\n",
              "      <td>0.009504</td>\n",
              "      <td>0.003871</td>\n",
              "      <td>0.190992</td>\n",
              "      <td>0.091700</td>\n",
              "      <td>0.096811</td>\n",
              "      <td>0.209885</td>\n",
              "      <td>0.019732</td>\n",
              "      <td>0.751703</td>\n",
              "    </tr>\n",
              "    <tr>\n",
              "      <th>4</th>\n",
              "      <td>0.000459</td>\n",
              "      <td>0.526316</td>\n",
              "      <td>0.904040</td>\n",
              "      <td>0.389570</td>\n",
              "      <td>0.333333</td>\n",
              "      <td>0.337406</td>\n",
              "      <td>0.221753</td>\n",
              "      <td>0.052419</td>\n",
              "      <td>0.115930</td>\n",
              "      <td>0.064837</td>\n",
              "      <td>0.406710</td>\n",
              "      <td>0.019225</td>\n",
              "      <td>0.005390</td>\n",
              "      <td>0.680285</td>\n",
              "    </tr>\n",
              "  </tbody>\n",
              "</table>\n",
              "</div>"
            ],
            "text/plain": [
              "     Caudal        pH  Temperatura  ...        NT  Turbidez  Coliformes\n",
              "0  0.250869  0.666667     0.641414  ...  0.126900  0.004195    0.823149\n",
              "1  0.084240  0.210526     0.540404  ...  0.226107  0.016074    0.774917\n",
              "2  0.000511  0.526316     0.722222  ...  0.185615  0.005586    0.896349\n",
              "3  0.214183  0.678363     0.560606  ...  0.209885  0.019732    0.751703\n",
              "4  0.000459  0.526316     0.904040  ...  0.019225  0.005390    0.680285\n",
              "\n",
              "[5 rows x 14 columns]"
            ]
          },
          "metadata": {},
          "execution_count": 7
        }
      ]
    },
    {
      "cell_type": "code",
      "metadata": {
        "id": "G5RNWRVC1MyN"
      },
      "source": [
        "# Separar la variable dependiente\n",
        "train_labels = trainData.pop('Coliformes')\n",
        "test_labels = testData.pop('Coliformes')"
      ],
      "execution_count": null,
      "outputs": []
    },
    {
      "cell_type": "code",
      "metadata": {
        "id": "tjgdy-vkzPXO"
      },
      "source": [
        "# Se define el modelo\n",
        "model= keras.models.Sequential()\n",
        "model.add(keras.layers.Dense(128, activation='relu', input_shape=[len(trainData.keys())]))\n",
        "model.add(keras.layers.Dense(64, activation=\"relu\",kernel_regularizer=tf.keras.regularizers.l2(1e-4)))\n",
        "model.add(keras.layers.Dense(32, activation=\"relu\",kernel_regularizer=tf.keras.regularizers.l2(1e-4)))\n",
        "model.add(keras.layers.Dense(1))"
      ],
      "execution_count": null,
      "outputs": []
    },
    {
      "cell_type": "code",
      "metadata": {
        "colab": {
          "base_uri": "https://localhost:8080/"
        },
        "id": "TlyPurIY3cBI",
        "outputId": "205fe9e7-7e87-45e8-cc31-0448f972f73c"
      },
      "source": [
        "# Mostrar el resumen de la configuracion\n",
        "model.summary()"
      ],
      "execution_count": null,
      "outputs": [
        {
          "output_type": "stream",
          "name": "stdout",
          "text": [
            "Model: \"sequential_2\"\n",
            "_________________________________________________________________\n",
            "Layer (type)                 Output Shape              Param #   \n",
            "=================================================================\n",
            "dense_8 (Dense)              (None, 128)               1792      \n",
            "_________________________________________________________________\n",
            "dense_9 (Dense)              (None, 64)                8256      \n",
            "_________________________________________________________________\n",
            "dense_10 (Dense)             (None, 32)                2080      \n",
            "_________________________________________________________________\n",
            "dense_11 (Dense)             (None, 1)                 33        \n",
            "=================================================================\n",
            "Total params: 12,161\n",
            "Trainable params: 12,161\n",
            "Non-trainable params: 0\n",
            "_________________________________________________________________\n"
          ]
        }
      ]
    },
    {
      "cell_type": "code",
      "metadata": {
        "id": "h_jwa0xa3ehz"
      },
      "source": [
        "# Compilando el modelo\n",
        "model.compile(loss=\"mse\",\n",
        "              optimizer= \"adam\",\n",
        "              metrics =[\"mse\",'mae',tf.keras.metrics.RootMeanSquaredError(), tf.keras.metrics.MeanSquaredLogarithmicError()])"
      ],
      "execution_count": null,
      "outputs": []
    },
    {
      "cell_type": "code",
      "metadata": {
        "colab": {
          "base_uri": "https://localhost:8080/"
        },
        "id": "aJxt0jfC33Ya",
        "outputId": "62eee540-eac5-4df0-ea80-05f272c20d68"
      },
      "source": [
        "# Entrenamiento y Evaluacion del Modelo\n",
        "history = model.fit(trainData, train_labels, epochs=50, batch_size=64, validation_split = 0.1)"
      ],
      "execution_count": null,
      "outputs": [
        {
          "output_type": "stream",
          "name": "stdout",
          "text": [
            "Epoch 1/50\n",
            "5/5 [==============================] - 1s 58ms/step - loss: 0.6155 - mse: 0.6028 - mae: 0.7421 - root_mean_squared_error: 0.7764 - mean_squared_logarithmic_error: 0.2944 - val_loss: 0.4442 - val_mse: 0.4317 - val_mae: 0.6260 - val_root_mean_squared_error: 0.6570 - val_mean_squared_logarithmic_error: 0.2070\n",
            "Epoch 2/50\n",
            "5/5 [==============================] - 0s 8ms/step - loss: 0.3702 - mse: 0.3578 - mae: 0.5619 - root_mean_squared_error: 0.5982 - mean_squared_logarithmic_error: 0.1649 - val_loss: 0.2381 - val_mse: 0.2259 - val_mae: 0.4469 - val_root_mean_squared_error: 0.4753 - val_mean_squared_logarithmic_error: 0.0936\n",
            "Epoch 3/50\n",
            "5/5 [==============================] - 0s 8ms/step - loss: 0.1946 - mse: 0.1825 - mae: 0.3988 - root_mean_squared_error: 0.4272 - mean_squared_logarithmic_error: 0.0740 - val_loss: 0.0891 - val_mse: 0.0772 - val_mae: 0.2644 - val_root_mean_squared_error: 0.2779 - val_mean_squared_logarithmic_error: 0.0288\n",
            "Epoch 4/50\n",
            "5/5 [==============================] - 0s 13ms/step - loss: 0.0800 - mse: 0.0683 - mae: 0.2316 - root_mean_squared_error: 0.2613 - mean_squared_logarithmic_error: 0.0267 - val_loss: 0.0427 - val_mse: 0.0312 - val_mae: 0.1270 - val_root_mean_squared_error: 0.1765 - val_mean_squared_logarithmic_error: 0.0127\n",
            "Epoch 5/50\n",
            "5/5 [==============================] - 0s 8ms/step - loss: 0.0632 - mse: 0.0517 - mae: 0.1606 - root_mean_squared_error: 0.2275 - mean_squared_logarithmic_error: 0.0208 - val_loss: 0.0728 - val_mse: 0.0615 - val_mae: 0.2000 - val_root_mean_squared_error: 0.2479 - val_mean_squared_logarithmic_error: 0.0212\n",
            "Epoch 6/50\n",
            "5/5 [==============================] - 0s 8ms/step - loss: 0.0697 - mse: 0.0585 - mae: 0.1787 - root_mean_squared_error: 0.2419 - mean_squared_logarithmic_error: 0.0225 - val_loss: 0.0479 - val_mse: 0.0369 - val_mae: 0.1465 - val_root_mean_squared_error: 0.1920 - val_mean_squared_logarithmic_error: 0.0136\n",
            "Epoch 7/50\n",
            "5/5 [==============================] - 0s 8ms/step - loss: 0.0485 - mse: 0.0376 - mae: 0.1393 - root_mean_squared_error: 0.1939 - mean_squared_logarithmic_error: 0.0156 - val_loss: 0.0319 - val_mse: 0.0212 - val_mae: 0.1161 - val_root_mean_squared_error: 0.1457 - val_mean_squared_logarithmic_error: 0.0083\n",
            "Epoch 8/50\n",
            "5/5 [==============================] - 0s 8ms/step - loss: 0.0425 - mse: 0.0319 - mae: 0.1352 - root_mean_squared_error: 0.1787 - mean_squared_logarithmic_error: 0.0131 - val_loss: 0.0295 - val_mse: 0.0191 - val_mae: 0.1167 - val_root_mean_squared_error: 0.1383 - val_mean_squared_logarithmic_error: 0.0072\n",
            "Epoch 9/50\n",
            "5/5 [==============================] - 0s 8ms/step - loss: 0.0429 - mse: 0.0326 - mae: 0.1410 - root_mean_squared_error: 0.1806 - mean_squared_logarithmic_error: 0.0130 - val_loss: 0.0285 - val_mse: 0.0183 - val_mae: 0.1129 - val_root_mean_squared_error: 0.1353 - val_mean_squared_logarithmic_error: 0.0068\n",
            "Epoch 10/50\n",
            "5/5 [==============================] - 0s 8ms/step - loss: 0.0412 - mse: 0.0310 - mae: 0.1347 - root_mean_squared_error: 0.1762 - mean_squared_logarithmic_error: 0.0124 - val_loss: 0.0277 - val_mse: 0.0177 - val_mae: 0.1076 - val_root_mean_squared_error: 0.1331 - val_mean_squared_logarithmic_error: 0.0065\n",
            "Epoch 11/50\n",
            "5/5 [==============================] - 0s 8ms/step - loss: 0.0384 - mse: 0.0285 - mae: 0.1238 - root_mean_squared_error: 0.1688 - mean_squared_logarithmic_error: 0.0115 - val_loss: 0.0290 - val_mse: 0.0193 - val_mae: 0.1096 - val_root_mean_squared_error: 0.1387 - val_mean_squared_logarithmic_error: 0.0068\n",
            "Epoch 12/50\n",
            "5/5 [==============================] - 0s 9ms/step - loss: 0.0374 - mse: 0.0277 - mae: 0.1206 - root_mean_squared_error: 0.1666 - mean_squared_logarithmic_error: 0.0111 - val_loss: 0.0298 - val_mse: 0.0203 - val_mae: 0.1107 - val_root_mean_squared_error: 0.1425 - val_mean_squared_logarithmic_error: 0.0070\n",
            "Epoch 13/50\n",
            "5/5 [==============================] - 0s 8ms/step - loss: 0.0366 - mse: 0.0271 - mae: 0.1187 - root_mean_squared_error: 0.1647 - mean_squared_logarithmic_error: 0.0108 - val_loss: 0.0281 - val_mse: 0.0187 - val_mae: 0.1060 - val_root_mean_squared_error: 0.1368 - val_mean_squared_logarithmic_error: 0.0065\n",
            "Epoch 14/50\n",
            "5/5 [==============================] - 0s 9ms/step - loss: 0.0353 - mse: 0.0260 - mae: 0.1157 - root_mean_squared_error: 0.1612 - mean_squared_logarithmic_error: 0.0103 - val_loss: 0.0265 - val_mse: 0.0174 - val_mae: 0.1017 - val_root_mean_squared_error: 0.1318 - val_mean_squared_logarithmic_error: 0.0060\n",
            "Epoch 15/50\n",
            "5/5 [==============================] - 0s 8ms/step - loss: 0.0344 - mse: 0.0253 - mae: 0.1142 - root_mean_squared_error: 0.1590 - mean_squared_logarithmic_error: 0.0100 - val_loss: 0.0256 - val_mse: 0.0166 - val_mae: 0.0988 - val_root_mean_squared_error: 0.1289 - val_mean_squared_logarithmic_error: 0.0058\n",
            "Epoch 16/50\n",
            "5/5 [==============================] - 0s 8ms/step - loss: 0.0334 - mse: 0.0244 - mae: 0.1117 - root_mean_squared_error: 0.1564 - mean_squared_logarithmic_error: 0.0097 - val_loss: 0.0255 - val_mse: 0.0166 - val_mae: 0.0993 - val_root_mean_squared_error: 0.1290 - val_mean_squared_logarithmic_error: 0.0058\n",
            "Epoch 17/50\n",
            "5/5 [==============================] - 0s 8ms/step - loss: 0.0324 - mse: 0.0236 - mae: 0.1086 - root_mean_squared_error: 0.1536 - mean_squared_logarithmic_error: 0.0094 - val_loss: 0.0254 - val_mse: 0.0167 - val_mae: 0.1002 - val_root_mean_squared_error: 0.1294 - val_mean_squared_logarithmic_error: 0.0058\n",
            "Epoch 18/50\n",
            "5/5 [==============================] - 0s 8ms/step - loss: 0.0316 - mse: 0.0229 - mae: 0.1059 - root_mean_squared_error: 0.1514 - mean_squared_logarithmic_error: 0.0092 - val_loss: 0.0251 - val_mse: 0.0166 - val_mae: 0.0990 - val_root_mean_squared_error: 0.1289 - val_mean_squared_logarithmic_error: 0.0057\n",
            "Epoch 19/50\n",
            "5/5 [==============================] - 0s 9ms/step - loss: 0.0307 - mse: 0.0222 - mae: 0.1037 - root_mean_squared_error: 0.1491 - mean_squared_logarithmic_error: 0.0089 - val_loss: 0.0238 - val_mse: 0.0154 - val_mae: 0.0943 - val_root_mean_squared_error: 0.1242 - val_mean_squared_logarithmic_error: 0.0053\n",
            "Epoch 20/50\n",
            "5/5 [==============================] - 0s 7ms/step - loss: 0.0300 - mse: 0.0216 - mae: 0.1015 - root_mean_squared_error: 0.1470 - mean_squared_logarithmic_error: 0.0086 - val_loss: 0.0238 - val_mse: 0.0155 - val_mae: 0.0935 - val_root_mean_squared_error: 0.1245 - val_mean_squared_logarithmic_error: 0.0053\n",
            "Epoch 21/50\n",
            "5/5 [==============================] - 0s 10ms/step - loss: 0.0291 - mse: 0.0209 - mae: 0.0984 - root_mean_squared_error: 0.1445 - mean_squared_logarithmic_error: 0.0083 - val_loss: 0.0235 - val_mse: 0.0154 - val_mae: 0.0920 - val_root_mean_squared_error: 0.1239 - val_mean_squared_logarithmic_error: 0.0052\n",
            "Epoch 22/50\n",
            "5/5 [==============================] - 0s 8ms/step - loss: 0.0285 - mse: 0.0204 - mae: 0.0960 - root_mean_squared_error: 0.1427 - mean_squared_logarithmic_error: 0.0081 - val_loss: 0.0230 - val_mse: 0.0149 - val_mae: 0.0897 - val_root_mean_squared_error: 0.1221 - val_mean_squared_logarithmic_error: 0.0051\n",
            "Epoch 23/50\n",
            "5/5 [==============================] - 0s 10ms/step - loss: 0.0278 - mse: 0.0198 - mae: 0.0946 - root_mean_squared_error: 0.1408 - mean_squared_logarithmic_error: 0.0079 - val_loss: 0.0221 - val_mse: 0.0142 - val_mae: 0.0879 - val_root_mean_squared_error: 0.1190 - val_mean_squared_logarithmic_error: 0.0049\n",
            "Epoch 24/50\n",
            "5/5 [==============================] - 0s 8ms/step - loss: 0.0273 - mse: 0.0194 - mae: 0.0937 - root_mean_squared_error: 0.1392 - mean_squared_logarithmic_error: 0.0077 - val_loss: 0.0215 - val_mse: 0.0137 - val_mae: 0.0860 - val_root_mean_squared_error: 0.1169 - val_mean_squared_logarithmic_error: 0.0047\n",
            "Epoch 25/50\n",
            "5/5 [==============================] - 0s 9ms/step - loss: 0.0269 - mse: 0.0191 - mae: 0.0924 - root_mean_squared_error: 0.1382 - mean_squared_logarithmic_error: 0.0077 - val_loss: 0.0213 - val_mse: 0.0135 - val_mae: 0.0865 - val_root_mean_squared_error: 0.1164 - val_mean_squared_logarithmic_error: 0.0047\n",
            "Epoch 26/50\n",
            "5/5 [==============================] - 0s 8ms/step - loss: 0.0263 - mse: 0.0186 - mae: 0.0905 - root_mean_squared_error: 0.1362 - mean_squared_logarithmic_error: 0.0074 - val_loss: 0.0213 - val_mse: 0.0136 - val_mae: 0.0843 - val_root_mean_squared_error: 0.1167 - val_mean_squared_logarithmic_error: 0.0047\n",
            "Epoch 27/50\n",
            "5/5 [==============================] - 0s 7ms/step - loss: 0.0258 - mse: 0.0182 - mae: 0.0886 - root_mean_squared_error: 0.1348 - mean_squared_logarithmic_error: 0.0073 - val_loss: 0.0214 - val_mse: 0.0138 - val_mae: 0.0834 - val_root_mean_squared_error: 0.1174 - val_mean_squared_logarithmic_error: 0.0048\n",
            "Epoch 28/50\n",
            "5/5 [==============================] - 0s 8ms/step - loss: 0.0255 - mse: 0.0180 - mae: 0.0878 - root_mean_squared_error: 0.1340 - mean_squared_logarithmic_error: 0.0072 - val_loss: 0.0212 - val_mse: 0.0137 - val_mae: 0.0829 - val_root_mean_squared_error: 0.1171 - val_mean_squared_logarithmic_error: 0.0048\n",
            "Epoch 29/50\n",
            "5/5 [==============================] - 0s 8ms/step - loss: 0.0251 - mse: 0.0176 - mae: 0.0865 - root_mean_squared_error: 0.1327 - mean_squared_logarithmic_error: 0.0071 - val_loss: 0.0207 - val_mse: 0.0133 - val_mae: 0.0849 - val_root_mean_squared_error: 0.1153 - val_mean_squared_logarithmic_error: 0.0047\n",
            "Epoch 30/50\n",
            "5/5 [==============================] - 0s 8ms/step - loss: 0.0247 - mse: 0.0173 - mae: 0.0868 - root_mean_squared_error: 0.1317 - mean_squared_logarithmic_error: 0.0070 - val_loss: 0.0198 - val_mse: 0.0125 - val_mae: 0.0800 - val_root_mean_squared_error: 0.1118 - val_mean_squared_logarithmic_error: 0.0045\n",
            "Epoch 31/50\n",
            "5/5 [==============================] - 0s 9ms/step - loss: 0.0244 - mse: 0.0170 - mae: 0.0862 - root_mean_squared_error: 0.1306 - mean_squared_logarithmic_error: 0.0069 - val_loss: 0.0199 - val_mse: 0.0127 - val_mae: 0.0809 - val_root_mean_squared_error: 0.1126 - val_mean_squared_logarithmic_error: 0.0046\n",
            "Epoch 32/50\n",
            "5/5 [==============================] - 0s 8ms/step - loss: 0.0240 - mse: 0.0168 - mae: 0.0848 - root_mean_squared_error: 0.1294 - mean_squared_logarithmic_error: 0.0068 - val_loss: 0.0197 - val_mse: 0.0125 - val_mae: 0.0779 - val_root_mean_squared_error: 0.1117 - val_mean_squared_logarithmic_error: 0.0045\n",
            "Epoch 33/50\n",
            "5/5 [==============================] - 0s 9ms/step - loss: 0.0240 - mse: 0.0168 - mae: 0.0860 - root_mean_squared_error: 0.1298 - mean_squared_logarithmic_error: 0.0068 - val_loss: 0.0201 - val_mse: 0.0130 - val_mae: 0.0809 - val_root_mean_squared_error: 0.1139 - val_mean_squared_logarithmic_error: 0.0046\n",
            "Epoch 34/50\n",
            "5/5 [==============================] - 0s 11ms/step - loss: 0.0239 - mse: 0.0168 - mae: 0.0828 - root_mean_squared_error: 0.1295 - mean_squared_logarithmic_error: 0.0069 - val_loss: 0.0199 - val_mse: 0.0129 - val_mae: 0.0820 - val_root_mean_squared_error: 0.1135 - val_mean_squared_logarithmic_error: 0.0046\n",
            "Epoch 35/50\n",
            "5/5 [==============================] - 0s 11ms/step - loss: 0.0231 - mse: 0.0161 - mae: 0.0838 - root_mean_squared_error: 0.1268 - mean_squared_logarithmic_error: 0.0066 - val_loss: 0.0188 - val_mse: 0.0118 - val_mae: 0.0770 - val_root_mean_squared_error: 0.1087 - val_mean_squared_logarithmic_error: 0.0043\n",
            "Epoch 36/50\n",
            "5/5 [==============================] - 0s 8ms/step - loss: 0.0235 - mse: 0.0165 - mae: 0.0861 - root_mean_squared_error: 0.1284 - mean_squared_logarithmic_error: 0.0067 - val_loss: 0.0194 - val_mse: 0.0125 - val_mae: 0.0795 - val_root_mean_squared_error: 0.1116 - val_mean_squared_logarithmic_error: 0.0045\n",
            "Epoch 37/50\n",
            "5/5 [==============================] - 0s 9ms/step - loss: 0.0232 - mse: 0.0163 - mae: 0.0814 - root_mean_squared_error: 0.1276 - mean_squared_logarithmic_error: 0.0067 - val_loss: 0.0193 - val_mse: 0.0124 - val_mae: 0.0799 - val_root_mean_squared_error: 0.1114 - val_mean_squared_logarithmic_error: 0.0045\n",
            "Epoch 38/50\n",
            "5/5 [==============================] - 0s 9ms/step - loss: 0.0225 - mse: 0.0156 - mae: 0.0805 - root_mean_squared_error: 0.1250 - mean_squared_logarithmic_error: 0.0064 - val_loss: 0.0182 - val_mse: 0.0113 - val_mae: 0.0753 - val_root_mean_squared_error: 0.1065 - val_mean_squared_logarithmic_error: 0.0042\n",
            "Epoch 39/50\n",
            "5/5 [==============================] - 0s 8ms/step - loss: 0.0227 - mse: 0.0159 - mae: 0.0852 - root_mean_squared_error: 0.1260 - mean_squared_logarithmic_error: 0.0065 - val_loss: 0.0181 - val_mse: 0.0113 - val_mae: 0.0751 - val_root_mean_squared_error: 0.1065 - val_mean_squared_logarithmic_error: 0.0042\n",
            "Epoch 40/50\n",
            "5/5 [==============================] - 0s 9ms/step - loss: 0.0225 - mse: 0.0157 - mae: 0.0810 - root_mean_squared_error: 0.1254 - mean_squared_logarithmic_error: 0.0065 - val_loss: 0.0189 - val_mse: 0.0122 - val_mae: 0.0802 - val_root_mean_squared_error: 0.1104 - val_mean_squared_logarithmic_error: 0.0045\n",
            "Epoch 41/50\n",
            "5/5 [==============================] - 0s 9ms/step - loss: 0.0221 - mse: 0.0153 - mae: 0.0811 - root_mean_squared_error: 0.1238 - mean_squared_logarithmic_error: 0.0063 - val_loss: 0.0179 - val_mse: 0.0112 - val_mae: 0.0738 - val_root_mean_squared_error: 0.1060 - val_mean_squared_logarithmic_error: 0.0042\n",
            "Epoch 42/50\n",
            "5/5 [==============================] - 0s 10ms/step - loss: 0.0216 - mse: 0.0149 - mae: 0.0793 - root_mean_squared_error: 0.1222 - mean_squared_logarithmic_error: 0.0062 - val_loss: 0.0191 - val_mse: 0.0125 - val_mae: 0.0805 - val_root_mean_squared_error: 0.1116 - val_mean_squared_logarithmic_error: 0.0046\n",
            "Epoch 43/50\n",
            "5/5 [==============================] - 0s 8ms/step - loss: 0.0220 - mse: 0.0153 - mae: 0.0783 - root_mean_squared_error: 0.1239 - mean_squared_logarithmic_error: 0.0064 - val_loss: 0.0183 - val_mse: 0.0117 - val_mae: 0.0766 - val_root_mean_squared_error: 0.1080 - val_mean_squared_logarithmic_error: 0.0044\n",
            "Epoch 44/50\n",
            "5/5 [==============================] - 0s 8ms/step - loss: 0.0214 - mse: 0.0148 - mae: 0.0778 - root_mean_squared_error: 0.1216 - mean_squared_logarithmic_error: 0.0062 - val_loss: 0.0177 - val_mse: 0.0111 - val_mae: 0.0735 - val_root_mean_squared_error: 0.1053 - val_mean_squared_logarithmic_error: 0.0042\n",
            "Epoch 45/50\n",
            "5/5 [==============================] - 0s 9ms/step - loss: 0.0213 - mse: 0.0148 - mae: 0.0797 - root_mean_squared_error: 0.1216 - mean_squared_logarithmic_error: 0.0062 - val_loss: 0.0178 - val_mse: 0.0112 - val_mae: 0.0737 - val_root_mean_squared_error: 0.1059 - val_mean_squared_logarithmic_error: 0.0043\n",
            "Epoch 46/50\n",
            "5/5 [==============================] - 0s 11ms/step - loss: 0.0210 - mse: 0.0145 - mae: 0.0773 - root_mean_squared_error: 0.1204 - mean_squared_logarithmic_error: 0.0061 - val_loss: 0.0182 - val_mse: 0.0117 - val_mae: 0.0756 - val_root_mean_squared_error: 0.1082 - val_mean_squared_logarithmic_error: 0.0044\n",
            "Epoch 47/50\n",
            "5/5 [==============================] - 0s 11ms/step - loss: 0.0211 - mse: 0.0146 - mae: 0.0776 - root_mean_squared_error: 0.1210 - mean_squared_logarithmic_error: 0.0061 - val_loss: 0.0179 - val_mse: 0.0114 - val_mae: 0.0738 - val_root_mean_squared_error: 0.1070 - val_mean_squared_logarithmic_error: 0.0044\n",
            "Epoch 48/50\n",
            "5/5 [==============================] - 0s 10ms/step - loss: 0.0207 - mse: 0.0142 - mae: 0.0764 - root_mean_squared_error: 0.1192 - mean_squared_logarithmic_error: 0.0059 - val_loss: 0.0180 - val_mse: 0.0115 - val_mae: 0.0753 - val_root_mean_squared_error: 0.1073 - val_mean_squared_logarithmic_error: 0.0044\n",
            "Epoch 49/50\n",
            "5/5 [==============================] - 0s 9ms/step - loss: 0.0208 - mse: 0.0144 - mae: 0.0767 - root_mean_squared_error: 0.1198 - mean_squared_logarithmic_error: 0.0061 - val_loss: 0.0173 - val_mse: 0.0109 - val_mae: 0.0712 - val_root_mean_squared_error: 0.1043 - val_mean_squared_logarithmic_error: 0.0042\n",
            "Epoch 50/50\n",
            "5/5 [==============================] - 0s 8ms/step - loss: 0.0206 - mse: 0.0142 - mae: 0.0773 - root_mean_squared_error: 0.1192 - mean_squared_logarithmic_error: 0.0060 - val_loss: 0.0177 - val_mse: 0.0113 - val_mae: 0.0732 - val_root_mean_squared_error: 0.1065 - val_mean_squared_logarithmic_error: 0.0043\n"
          ]
        }
      ]
    },
    {
      "cell_type": "code",
      "metadata": {
        "colab": {
          "base_uri": "https://localhost:8080/"
        },
        "id": "gvIuQ1ED5APS",
        "outputId": "82db0392-c76a-444f-d51d-20c25400d021"
      },
      "source": [
        "loss, mae, mse, rmse, rmlse = model.evaluate(testData, test_labels, verbose=2)\n",
        "model.evaluate(testData, test_labels, verbose=2)\n",
        "print(mse)\n",
        "print(rmse)\n",
        "print(math.sqrt(rmlse))\n",
        "print(mae)"
      ],
      "execution_count": null,
      "outputs": [
        {
          "output_type": "stream",
          "name": "stdout",
          "text": [
            "2/2 - 0s - loss: 0.0309 - mse: 0.0245 - mae: 0.1090 - root_mean_squared_error: 0.1566 - mean_squared_logarithmic_error: 0.0100\n",
            "2/2 - 0s - loss: 0.0309 - mse: 0.0245 - mae: 0.1090 - root_mean_squared_error: 0.1566 - mean_squared_logarithmic_error: 0.0100\n",
            "0.10904776304960251\n",
            "0.156561017036438\n",
            "0.0999522012975296\n",
            "0.02451135404407978\n"
          ]
        }
      ]
    },
    {
      "cell_type": "code",
      "metadata": {
        "id": "cxU2-aoW5TbF"
      },
      "source": [
        "# Grafica para mostrar las graficas del entrenamiento.\n",
        "def showGraphs(history):\n",
        "  acc = history.history['root_mean_squared_error']\n",
        "  val_acc = history.history['val_root_mean_squared_error']\n",
        "  loss = history.history['loss']\n",
        "  val_loss = history.history['val_loss']\n",
        "  epochs = range(len(acc))\n",
        "\n",
        "  # Graficar Precision\n",
        "  plt.plot(epochs, acc, 'b', label='RMSE Entrenamiento')\n",
        "  plt.plot(epochs, val_acc, 'r', label='RMSE Validacion')\n",
        "  plt.title('RMSE de entrenamiento y validación')\n",
        "  plt.xlabel('Epocas')\n",
        "  plt.ylabel('RMSE')\n",
        "  plt.legend()\n",
        "\n",
        "  # Graficar Error\n",
        "  #plt.plot(epochs, loss, 'b', label='Training Loss')\n",
        "  #plt.plot(epochs, val_loss, 'r', label='Validation Loss')\n",
        "  #plt.title('Perdida de entrenamiento y validación')\n",
        "  #plt.legend()\n",
        "\n",
        "  plt.savefig(\"abc.png\", dpi=100)\n",
        "  #files.download(\"abc.png\")"
      ],
      "execution_count": null,
      "outputs": []
    },
    {
      "cell_type": "code",
      "metadata": {
        "colab": {
          "base_uri": "https://localhost:8080/",
          "height": 295
        },
        "id": "PN6vOd-j5UlF",
        "outputId": "c694de97-6692-401a-9e2b-1985cc607cb8"
      },
      "source": [
        "showGraphs(history)"
      ],
      "execution_count": null,
      "outputs": [
        {
          "output_type": "display_data",
          "data": {
            "image/png": "[encoded data removed]",
            "text/plain": [
              "<Figure size 432x288 with 1 Axes>"
            ]
          },
          "metadata": {
            "needs_background": "light"
          }
        }
      ]
    },
    {
      "cell_type": "code",
      "metadata": {
        "colab": {
          "base_uri": "https://localhost:8080/",
          "height": 279
        },
        "id": "ucpz6edA6TmB",
        "outputId": "84f29106-cdd6-4878-8922-c58971e11284"
      },
      "source": [
        "# Mostrar predicciones\n",
        "test_predictions = model.predict(testData).flatten()\n",
        "plt.scatter(test_labels, test_predictions)\n",
        "plt.xlabel('True Values [MPG]')\n",
        "plt.ylabel('Predictions [MPG]')\n",
        "plt.axis('equal')\n",
        "plt.axis('square')\n",
        "plt.xlim([0,plt.xlim()[1]])\n",
        "plt.ylim([0,plt.ylim()[1]])\n",
        "_ = plt.plot([-100, 100], [-100, 100])"
      ],
      "execution_count": null,
      "outputs": [
        {
          "output_type": "display_data",
          "data": {
            "image/png": "[encoded data removed]",
            "text/plain": [
              "<Figure size 432x288 with 1 Axes>"
            ]
          },
          "metadata": {
            "needs_background": "light"
          }
        }
      ]
    },
    {
      "cell_type": "code",
      "metadata": {
        "colab": {
          "base_uri": "https://localhost:8080/",
          "height": 205
        },
        "id": "9xzRuSmoz11h",
        "outputId": "eed3d143-bd4c-48f7-c02c-6139e934bec9"
      },
      "source": [
        "# Guardar predicciones\n",
        "df = pd.DataFrame(list(zip(test_labels, test_predictions)), columns=['real','pred'])\n",
        "df.head()"
      ],
      "execution_count": null,
      "outputs": [
        {
          "output_type": "execute_result",
          "data": {
            "text/html": [
              "<div>\n",
              "<style scoped>\n",
              "    .dataframe tbody tr th:only-of-type {\n",
              "        vertical-align: middle;\n",
              "    }\n",
              "\n",
              "    .dataframe tbody tr th {\n",
              "        vertical-align: top;\n",
              "    }\n",
              "\n",
              "    .dataframe thead th {\n",
              "        text-align: right;\n",
              "    }\n",
              "</style>\n",
              "<table border=\"1\" class=\"dataframe\">\n",
              "  <thead>\n",
              "    <tr style=\"text-align: right;\">\n",
              "      <th></th>\n",
              "      <th>real</th>\n",
              "      <th>pred</th>\n",
              "    </tr>\n",
              "  </thead>\n",
              "  <tbody>\n",
              "    <tr>\n",
              "      <th>0</th>\n",
              "      <td>0.741096</td>\n",
              "      <td>0.783417</td>\n",
              "    </tr>\n",
              "    <tr>\n",
              "      <th>1</th>\n",
              "      <td>0.722712</td>\n",
              "      <td>0.803421</td>\n",
              "    </tr>\n",
              "    <tr>\n",
              "      <th>2</th>\n",
              "      <td>0.824133</td>\n",
              "      <td>0.741066</td>\n",
              "    </tr>\n",
              "    <tr>\n",
              "      <th>3</th>\n",
              "      <td>0.695706</td>\n",
              "      <td>0.731993</td>\n",
              "    </tr>\n",
              "    <tr>\n",
              "      <th>4</th>\n",
              "      <td>0.319181</td>\n",
              "      <td>0.309518</td>\n",
              "    </tr>\n",
              "  </tbody>\n",
              "</table>\n",
              "</div>"
            ],
            "text/plain": [
              "       real      pred\n",
              "0  0.741096  0.783417\n",
              "1  0.722712  0.803421\n",
              "2  0.824133  0.741066\n",
              "3  0.695706  0.731993\n",
              "4  0.319181  0.309518"
            ]
          },
          "metadata": {},
          "execution_count": 46
        }
      ]
    },
    {
      "cell_type": "code",
      "metadata": {
        "colab": {
          "base_uri": "https://localhost:8080/",
          "height": 17
        },
        "id": "1Qvy1d1z0sTG",
        "outputId": "486e3b2c-3d2b-4c08-92f6-225ae79c1bd5"
      },
      "source": [
        "# Exportar archivo\n",
        "df.to_csv('nnProf.csv')\n",
        "files.download('nnProf.csv')"
      ],
      "execution_count": null,
      "outputs": [
        {
          "output_type": "display_data",
          "data": {
            "application/javascript": [
              "\n",
              "    async function download(id, filename, size) {\n",
              "      if (!google.colab.kernel.accessAllowed) {\n",
              "        return;\n",
              "      }\n",
              "      const div = document.createElement('div');\n",
              "      const label = document.createElement('label');\n",
              "      label.textContent = `Downloading \"${filename}\": `;\n",
              "      div.appendChild(label);\n",
              "      const progress = document.createElement('progress');\n",
              "      progress.max = size;\n",
              "      div.appendChild(progress);\n",
              "      document.body.appendChild(div);\n",
              "\n",
              "      const buffers = [];\n",
              "      let downloaded = 0;\n",
              "\n",
              "      const channel = await google.colab.kernel.comms.open(id);\n",
              "      // Send a message to notify the kernel that we're ready.\n",
              "      channel.send({})\n",
              "\n",
              "      for await (const message of channel.messages) {\n",
              "        // Send a message to notify the kernel that we're ready.\n",
              "        channel.send({})\n",
              "        if (message.buffers) {\n",
              "          for (const buffer of message.buffers) {\n",
              "            buffers.push(buffer);\n",
              "            downloaded += buffer.byteLength;\n",
              "            progress.value = downloaded;\n",
              "          }\n",
              "        }\n",
              "      }\n",
              "      const blob = new Blob(buffers, {type: 'application/binary'});\n",
              "      const a = document.createElement('a');\n",
              "      a.href = window.URL.createObjectURL(blob);\n",
              "      a.download = filename;\n",
              "      div.appendChild(a);\n",
              "      a.click();\n",
              "      div.remove();\n",
              "    }\n",
              "  "
            ],
            "text/plain": [
              "<IPython.core.display.Javascript object>"
            ]
          },
          "metadata": {}
        },
        {
          "output_type": "display_data",
          "data": {
            "application/javascript": [
              "download(\"download_d51dbed1-4443-4397-acbd-424a549bfb79\", \"nnProf.csv\", 2379)"
            ],
            "text/plain": [
              "<IPython.core.display.Javascript object>"
            ]
          },
          "metadata": {}
        }
      ]
    }
  ]
}